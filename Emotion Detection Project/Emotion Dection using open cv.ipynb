{
 "cells": [
  {
   "cell_type": "markdown",
   "id": "d0e08929",
   "metadata": {},
   "source": [
    "## Real-Time Emotion Detection with Webcam"
   ]
  },
  {
   "cell_type": "markdown",
   "id": "23366305",
   "metadata": {},
   "source": [
    "### 1.Import the Libraries"
   ]
  },
  {
   "cell_type": "code",
   "execution_count": 2,
   "id": "36d33d50",
   "metadata": {},
   "outputs": [],
   "source": [
    "import cv2\n",
    "import numpy as np\n",
    "from tensorflow.keras.models import load_model"
   ]
  },
  {
   "cell_type": "code",
   "execution_count": 4,
   "id": "305f2658",
   "metadata": {},
   "outputs": [],
   "source": [
    "# load the model\n",
    "model = load_model('emotion_model.keras')\n",
    "\n",
    "# Emotion labels (FER2013 dataset has 7 classes)\n",
    "emotion_labels = ['Angry','Disgust','Fear','Happy','Sad','Surprise','Neutral']\n",
    "\n",
    "# Load Face Detector\n",
    "face_cascade = cv2.CascadeClassifier(cv2.data.haarcascades + \"haarcascade_frontalface_alt2.xml\")\n",
    "\n",
    "# Capture Video\n",
    "cap = cv2.VideoCapture(0)\n",
    "\n",
    "while True:\n",
    "    ret,frame = cap.read()\n",
    "    if not ret:\n",
    "        break\n",
    "\n",
    "    # Convert to grayscale\n",
    "    gray = cv2.cvtColor(frame,cv2.COLOR_BGR2GRAY)\n",
    "    \n",
    "    # Detect faces\n",
    "    faces = face_cascade.detectMultiScale(gray,scaleFactor=1.3, minNeighbors=5)\n",
    "    \n",
    "    for (x, y, w, h) in faces:\n",
    "        # Draw rectangle around face\n",
    "        cv2.rectangle(frame, (x,y), (x+w,y+h), (255,0,0), 2)\n",
    "        \n",
    "        # Extract face region\n",
    "        roi_gray = gray[y:y+h, x:x+w]\n",
    "        roi_gray = cv2.resize(roi_gray, (48,48))   # resize to model input\n",
    "        roi_gray = roi_gray.astype(\"float\") / 255.0\n",
    "        roi_gray = np.expand_dims(roi_gray, axis=-1)  # add channel dimension\n",
    "        roi_gray = np.expand_dims(roi_gray, axis=0)   # add batch dimension\n",
    "        \n",
    "        # Predict emotion\n",
    "        preds = model.predict(roi_gray, verbose=0)\n",
    "        emotion = emotion_labels[np.argmax(preds)]\n",
    "        # Put text\n",
    "        cv2.putText(frame, emotion, (x, y-10),\n",
    "                    cv2.FONT_HERSHEY_SIMPLEX, 0.9, (36,255,12), 2)\n",
    "        \n",
    "    # Show video\n",
    "    cv2.imshow(\"Emotion Detection\", frame)\n",
    "\n",
    "    # Press 'q' to quit\n",
    "    if cv2.waitKey(1) & 0xFF == ord('q'):\n",
    "        break\n",
    "    \n",
    "cap.release()\n",
    "cv2.destroyAllWindows()"
   ]
  },
  {
   "cell_type": "code",
   "execution_count": null,
   "id": "fe9b9687",
   "metadata": {},
   "outputs": [],
   "source": []
  }
 ],
 "metadata": {
  "kernelspec": {
   "display_name": "Deep_Learning",
   "language": "python",
   "name": "python3"
  },
  "language_info": {
   "codemirror_mode": {
    "name": "ipython",
    "version": 3
   },
   "file_extension": ".py",
   "mimetype": "text/x-python",
   "name": "python",
   "nbconvert_exporter": "python",
   "pygments_lexer": "ipython3",
   "version": "3.13.1"
  }
 },
 "nbformat": 4,
 "nbformat_minor": 5
}
