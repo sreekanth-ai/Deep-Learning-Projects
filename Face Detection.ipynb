{
 "cells": [
  {
   "cell_type": "markdown",
   "id": "147fc8dd",
   "metadata": {},
   "source": [
    "### 1. Import Libraries"
   ]
  },
  {
   "cell_type": "code",
   "execution_count": 1,
   "id": "6005a7cf",
   "metadata": {},
   "outputs": [],
   "source": [
    "import cv2\n",
    "import numpy as np\n",
    "from skimage.metrics import structural_similarity as ssim"
   ]
  },
  {
   "cell_type": "code",
   "execution_count": 6,
   "id": "773c3abe",
   "metadata": {},
   "outputs": [],
   "source": [
    "# Load reference image and convert to grayscale\n",
    "reference_image = cv2.imread(\"my2.png\")\n",
    "reference_gray = cv2.cvtColor(reference_image, cv2.COLOR_BGR2GRAY)"
   ]
  },
  {
   "cell_type": "code",
   "execution_count": 7,
   "id": "c1fb6f8f",
   "metadata": {},
   "outputs": [],
   "source": [
    "# Load Haar Cascade for face detection\n",
    "face_cascade = cv2.CascadeClassifier(cv2.data.haarcascades + \"haarcascade_frontalface_default.xml\")"
   ]
  },
  {
   "cell_type": "code",
   "execution_count": 8,
   "id": "8e97b377",
   "metadata": {},
   "outputs": [],
   "source": [
    "# Detect face in reference image\n",
    "ref_faces = face_cascade.detectMultiScale(reference_gray, scaleFactor=1.1, minNeighbors=5)\n",
    "if len(ref_faces) == 0:\n",
    "    raise Exception(\"No face found in reference image!\")\n",
    "\n",
    "x, y, w, h = ref_faces[0]\n",
    "ref_face = reference_gray[y:y+h, x:x+w]"
   ]
  },
  {
   "cell_type": "code",
   "execution_count": 9,
   "id": "f60f29fd",
   "metadata": {},
   "outputs": [],
   "source": [
    "# Initialize webcam\n",
    "cap = cv2.VideoCapture(0)\n",
    "\n",
    "while True:\n",
    "    ret, frame = cap.read()\n",
    "    if not ret:\n",
    "        print(\"Failed to grab frame\")\n",
    "        break\n",
    "\n",
    "    gray_frame = cv2.cvtColor(frame, cv2.COLOR_BGR2GRAY)\n",
    "    faces = face_cascade.detectMultiScale(gray_frame, scaleFactor=1.1, minNeighbors=5)\n",
    "\n",
    "    for (x, y, w, h) in faces:\n",
    "        detected_face = gray_frame[y:y+h, x:x+w]\n",
    "\n",
    "        # Resize detected face to match reference size\n",
    "        detected_face_resized = cv2.resize(detected_face, (ref_face.shape[1], ref_face.shape[0]))\n",
    "\n",
    "        # Compute similarity using Structural Similarity Index (SSIM)\n",
    "        similarity = ssim(ref_face, detected_face_resized)\n",
    "\n",
    "        threshold = 0.5  # 0–1, higher = more similar\n",
    "        if similarity > threshold:\n",
    "            label = f\"Match! ({similarity:.2f})\"\n",
    "            color = (0, 255, 0)\n",
    "        else:\n",
    "            label = f\"No Match ({similarity:.2f})\"\n",
    "            color = (0, 0, 255)\n",
    "\n",
    "        # Draw rectangle and label\n",
    "        cv2.rectangle(frame, (x, y), (x+w, y+h), color, 2)\n",
    "        cv2.putText(frame, label, (x, y-10), cv2.FONT_HERSHEY_SIMPLEX, 0.8, color, 2)\n",
    "\n",
    "    cv2.imshow(\"Face Verification (OpenCV)\", frame)\n",
    "\n",
    "    if cv2.waitKey(1) & 0xFF == ord('q'):\n",
    "        break\n",
    "\n",
    "cap.release()\n",
    "cv2.destroyAllWindows()"
   ]
  },
  {
   "cell_type": "code",
   "execution_count": null,
   "id": "28f07a17",
   "metadata": {},
   "outputs": [],
   "source": []
  }
 ],
 "metadata": {
  "kernelspec": {
   "display_name": "Deep_Learning",
   "language": "python",
   "name": "python3"
  },
  "language_info": {
   "codemirror_mode": {
    "name": "ipython",
    "version": 3
   },
   "file_extension": ".py",
   "mimetype": "text/x-python",
   "name": "python",
   "nbconvert_exporter": "python",
   "pygments_lexer": "ipython3",
   "version": "3.13.1"
  }
 },
 "nbformat": 4,
 "nbformat_minor": 5
}
